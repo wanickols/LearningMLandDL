{
  "cells": [
    {
      "cell_type": "markdown",
      "metadata": {
        "id": "view-in-github",
        "colab_type": "text"
      },
      "source": [
        "<a href=\"https://colab.research.google.com/github/wanickols01/LearningMLandDL/blob/main/CovarianceCorrelation.ipynb\" target=\"_parent\"><img src=\"https://colab.research.google.com/assets/colab-badge.svg\" alt=\"Open In Colab\"/></a>"
      ]
    },
    {
      "cell_type": "markdown",
      "metadata": {
        "id": "skARDUzW24Dp"
      },
      "source": [
        "# Covariance and Correlation"
      ]
    },
    {
      "cell_type": "markdown",
      "metadata": {
        "id": "3YBnkaWC24Dr"
      },
      "source": [
        "Covariance measures how two variables vary in tandem from their means.\n",
        "\n",
        "For example, let's say we work for an e-commerce company, and they are interested in finding a correlation between page speed (how fast each web page renders for a customer) and how much a customer spends.\n",
        "\n",
        "numpy offers covariance methods, but we'll do it the \"hard way\" to show what happens under the hood. Basically we treat each variable as a vector of deviations from the mean, and compute the \"dot product\" of both vectors. Geometrically this can be thought of as the angle between the two vectors in a high-dimensional space, but you can just think of it as a measure of similarity between the two variables.\n",
        "\n",
        "First, let's just make page speed and purchase amount totally random and independent of each other; a very small covariance will result as there is no real correlation:"
      ]
    },
    {
      "cell_type": "code",
      "execution_count": 2,
      "metadata": {
        "colab": {
          "base_uri": "https://localhost:8080/",
          "height": 283
        },
        "id": "srs70BuL24Ds",
        "outputId": "e6a84609-d34f-4e1f-81be-0b9aec7291a0"
      },
      "outputs": [
        {
          "output_type": "execute_result",
          "data": {
            "text/plain": [
              "0.31736131566796943"
            ]
          },
          "metadata": {},
          "execution_count": 2
        },
        {
          "output_type": "display_data",
          "data": {
            "text/plain": [
              "<Figure size 432x288 with 1 Axes>"
            ],
            "image/png": "[encoded data removed]"
          },
          "metadata": {
            "needs_background": "light"
          }
        }
      ],
      "source": [
        "%matplotlib inline\n",
        "\n",
        "import numpy as np\n",
        "from pylab import *\n",
        "\n",
        "##Numpy has an option to calculate covariance, this is just to demonstrate how it can be done mathmatically\n",
        "\n",
        "def de_mean(x):\n",
        "    xmean = mean(x)\n",
        "    return [xi - xmean for xi in x]\n",
        "\n",
        "def covariance(x, y):\n",
        "    n = len(x)\n",
        "    return dot(de_mean(x), de_mean(y)) / (n-1)\n",
        "\n",
        "pageSpeeds = np.random.normal(3.0, 1.0, 1000)\n",
        "purchaseAmount = np.random.normal(50.0, 10.0, 1000)\n",
        "\n",
        "scatter(pageSpeeds, purchaseAmount)\n",
        "\n",
        "covariance (pageSpeeds, purchaseAmount)\n"
      ]
    },
    {
      "cell_type": "markdown",
      "metadata": {
        "id": "nsehJ0Zq24Dt"
      },
      "source": [
        "Now we'll make our fabricated purchase amounts an actual function of page speed, making a very real correlation. The negative value indicates an inverse relationship; pages that render in less time result in more money spent:"
      ]
    },
    {
      "cell_type": "code",
      "execution_count": 3,
      "metadata": {
        "colab": {
          "base_uri": "https://localhost:8080/",
          "height": 287
        },
        "id": "apLhJAxD24Dt",
        "outputId": "0f18d613-aa64-4a01-b6ce-3221112adce8"
      },
      "outputs": [
        {
          "output_type": "execute_result",
          "data": {
            "text/plain": [
              "-8.543057599579031"
            ]
          },
          "metadata": {},
          "execution_count": 3
        },
        {
          "output_type": "display_data",
          "data": {
            "text/plain": [
              "<Figure size 432x288 with 1 Axes>"
            ],
            "image/png": "[encoded data removed]"
          },
          "metadata": {
            "needs_background": "light"
          }
        }
      ],
      "source": [
        "purchaseAmount = np.random.normal(50.0, 10.0, 1000) / pageSpeeds\n",
        "\n",
        "scatter(pageSpeeds, purchaseAmount)\n",
        "\n",
        "covariance (pageSpeeds, purchaseAmount)"
      ]
    },
    {
      "cell_type": "markdown",
      "metadata": {
        "id": "4YTUQuA_24Dt"
      },
      "source": [
        "But, what does this value mean? Covariance is sensitive to the units used in the variables, which makes it difficult to interpret. Correlation normalizes everything by their standard deviations, giving you an easier to understand value that ranges from -1 (for a perfect inverse correlation) to 1 (for a perfect positive correlation):"
      ]
    },
    {
      "cell_type": "code",
      "execution_count": 4,
      "metadata": {
        "colab": {
          "base_uri": "https://localhost:8080/"
        },
        "id": "GZs-9W1p24Dt",
        "outputId": "9a5a1974-53c7-4afc-fb4c-f70b4ec9bebf"
      },
      "outputs": [
        {
          "output_type": "execute_result",
          "data": {
            "text/plain": [
              "-0.6212144321843783"
            ]
          },
          "metadata": {},
          "execution_count": 4
        }
      ],
      "source": [
        "def correlation(x, y):\n",
        "    stddevx = x.std()\n",
        "    stddevy = y.std()\n",
        "    return covariance(x,y) / stddevx / stddevy  #In real life you'd check for divide by zero here\n",
        "\n",
        "correlation(pageSpeeds, purchaseAmount)"
      ]
    },
    {
      "cell_type": "markdown",
      "metadata": {
        "id": "_lycGfBi24Du"
      },
      "source": [
        "numpy can do all this for you with numpy.corrcoef. It returns a matrix of the correlation coefficients between every combination of the arrays passed in:"
      ]
    },
    {
      "cell_type": "code",
      "execution_count": 5,
      "metadata": {
        "colab": {
          "base_uri": "https://localhost:8080/"
        },
        "id": "zFQ1nZEm24Du",
        "outputId": "8226555e-5228-4162-e976-b4ef936c71bd"
      },
      "outputs": [
        {
          "output_type": "execute_result",
          "data": {
            "text/plain": [
              "array([[ 1.        , -0.62059322],\n",
              "       [-0.62059322,  1.        ]])"
            ]
          },
          "metadata": {},
          "execution_count": 5
        }
      ],
      "source": [
        "np.corrcoef(pageSpeeds, purchaseAmount)"
      ]
    },
    {
      "cell_type": "markdown",
      "metadata": {
        "id": "HRgGhCOL24Du"
      },
      "source": [
        "(It doesn't match exactly just due to the math precision available on a computer.)\n",
        "\n",
        "We can force a perfect correlation by fabricating a totally linear relationship (again, it's not exactly -1 just due to precision errors, but it's close enough to tell us there's a really good correlation here):"
      ]
    },
    {
      "cell_type": "code",
      "execution_count": 10,
      "metadata": {
        "colab": {
          "base_uri": "https://localhost:8080/",
          "height": 283
        },
        "id": "q_lxIks324Du",
        "outputId": "1dcf3ac5-6ff5-4f10-b3ad-754b6e2d3357"
      },
      "outputs": [
        {
          "output_type": "execute_result",
          "data": {
            "text/plain": [
              "-1.0010010010010006"
            ]
          },
          "metadata": {},
          "execution_count": 10
        },
        {
          "output_type": "display_data",
          "data": {
            "text/plain": [
              "<Figure size 432x288 with 1 Axes>"
            ],
            "image/png": "[encoded data removed]"
          },
          "metadata": {
            "needs_background": "light"
          }
        }
      ],
      "source": [
        "purchaseAmount = 100 - pageSpeeds * 3\n",
        "\n",
        "scatter(pageSpeeds, purchaseAmount)\n",
        "\n",
        "correlation (pageSpeeds, purchaseAmount)"
      ]
    },
    {
      "cell_type": "markdown",
      "metadata": {
        "id": "tckb1M9G24Du"
      },
      "source": [
        "Remember, correlation does not imply causality!"
      ]
    },
    {
      "cell_type": "markdown",
      "metadata": {
        "id": "Gm7kbVhP24Dv"
      },
      "source": [
        "## Activity"
      ]
    },
    {
      "cell_type": "markdown",
      "metadata": {
        "id": "HjSuJykO24Dv"
      },
      "source": [
        "numpy also has a numpy.cov function that can compute Covariance for you. Try using it for the pageSpeeds and purchaseAmounts data above. Interpret its results, and compare it to the results from our own covariance function above."
      ]
    },
    {
      "cell_type": "code",
      "execution_count": 12,
      "metadata": {
        "id": "9a8KbUs324Dv"
      },
      "outputs": [],
      "source": [
        "\n"
      ]
    }
  ],
  "metadata": {
    "kernelspec": {
      "display_name": "Python 3",
      "language": "python",
      "name": "python3"
    },
    "language_info": {
      "codemirror_mode": {
        "name": "ipython",
        "version": 3
      },
      "file_extension": ".py",
      "mimetype": "text/x-python",
      "name": "python",
      "nbconvert_exporter": "python",
      "pygments_lexer": "ipython3",
      "version": "3.7.3"
    },
    "colab": {
      "provenance": [],
      "include_colab_link": true
    }
  },
  "nbformat": 4,
  "nbformat_minor": 0
}