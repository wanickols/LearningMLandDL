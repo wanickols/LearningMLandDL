{
  "cells": [
    {
      "cell_type": "markdown",
      "metadata": {
        "id": "view-in-github",
        "colab_type": "text"
      },
      "source": [
        "<a href=\"https://colab.research.google.com/github/wanickols01/LearningMLandDL/blob/main/KMeans.ipynb\" target=\"_parent\"><img src=\"https://colab.research.google.com/assets/colab-badge.svg\" alt=\"Open In Colab\"/></a>"
      ]
    },
    {
      "cell_type": "markdown",
      "metadata": {
        "id": "bbn1ZeLVwOEs"
      },
      "source": [
        "# K-Means Clustering Example"
      ]
    },
    {
      "cell_type": "markdown",
      "metadata": {
        "id": "NoteStjmwOEt"
      },
      "source": [
        "Let's make some fake data that includes people clustered by income and age, randomly:"
      ]
    },
    {
      "cell_type": "code",
      "execution_count": null,
      "metadata": {
        "id": "rWCtmw2rwOEt"
      },
      "outputs": [],
      "source": [
        "from numpy import random, array\n",
        "\n",
        "#Create fake income/age clusters for N people in k clusters\n",
        "def createClusteredData(N, k):\n",
        "    random.seed(10)\n",
        "    pointsPerCluster = float(N)/k\n",
        "    X = []\n",
        "    for i in range (k):\n",
        "        incomeCentroid = random.uniform(20000.0, 200000.0)\n",
        "        ageCentroid = random.uniform(20.0, 70.0)\n",
        "        for j in range(int(pointsPerCluster)):\n",
        "            X.append([random.normal(incomeCentroid, 10000.0), random.normal(ageCentroid, 2.0)])\n",
        "    X = array(X)\n",
        "    return X"
      ]
    },
    {
      "cell_type": "markdown",
      "metadata": {
        "id": "5z93uKWWwOEt"
      },
      "source": [
        "We'll use k-means to rediscover these clusters in unsupervised learning:"
      ]
    },
    {
      "cell_type": "code",
      "execution_count": null,
      "metadata": {
        "colab": {
          "base_uri": "https://localhost:8080/",
          "height": 537
        },
        "id": "b6oQ_3CBwOEt",
        "outputId": "d036073b-b653-44ec-bef2-0ac2ee383af2"
      },
      "outputs": [
        {
          "output_type": "stream",
          "name": "stderr",
          "text": [
            "<ipython-input-8-93cb4dbeff89>:6: DeprecationWarning: `np.float` is a deprecated alias for the builtin `float`. To silence this warning, use `float` by itself. Doing this will not modify any behavior and is safe. If you specifically wanted the numpy scalar type, use `np.float64` here.\n",
            "Deprecated in NumPy 1.20; for more details and guidance: https://numpy.org/devdocs/release/1.20.0-notes.html#deprecations\n",
            "  from numpy import random, float\n",
            "/usr/local/lib/python3.9/dist-packages/sklearn/cluster/_kmeans.py:870: FutureWarning: The default value of `n_init` will change from 10 to 'auto' in 1.4. Set the value of `n_init` explicitly to suppress the warning\n",
            "  warnings.warn(\n"
          ]
        },
        {
          "output_type": "stream",
          "name": "stdout",
          "text": [
            "[2 2 2 2 2 2 2 2 2 2 2 2 2 2 2 2 2 2 2 2 1 1 1 1 1 1 1 1 1 1 1 1 1 1 1 1 1\n",
            " 1 1 1 0 0 0 0 0 0 0 0 0 0 0 0 0 0 0 0 0 0 0 0 3 3 3 3 3 3 3 3 3 3 3 3 3 3\n",
            " 3 3 3 3 3 3 0 0 0 0 0 0 0 0 0 0 0 0 0 0 0 0 0 0 0 0]\n"
          ]
        },
        {
          "output_type": "display_data",
          "data": {
            "text/plain": [
              "<Figure size 576x432 with 1 Axes>"
            ],
            "image/png": "[encoded data removed]"
          },
          "metadata": {
            "needs_background": "light"
          }
        }
      ],
      "source": [
        "%matplotlib inline\n",
        "\n",
        "from sklearn.cluster import KMeans\n",
        "import matplotlib.pyplot as plt\n",
        "from sklearn.preprocessing import scale\n",
        "from numpy import random, float\n",
        "\n",
        "data = createClusteredData(100, 5)\n",
        "\n",
        "model = KMeans(n_clusters=4) # Create Model\n",
        "\n",
        "# Note I'm scaling the data to normalize it! Important for good results.\n",
        "model = model.fit(scale(data))\n",
        "\n",
        "# We can look at the clusters each data point was assigned to\n",
        "print(model.labels_)\n",
        "\n",
        "# And we'll visualize it:\n",
        "plt.figure(figsize=(8, 6))\n",
        "plt.scatter(data[:,0], data[:,1], c=model.labels_.astype(float))\n",
        "plt.show()"
      ]
    },
    {
      "cell_type": "markdown",
      "metadata": {
        "id": "LX8WQJ-nwOEu"
      },
      "source": [
        "## Activity"
      ]
    },
    {
      "cell_type": "markdown",
      "metadata": {
        "id": "j9-OecM6wOEu"
      },
      "source": [
        "Things to play with: what happens if you don't scale the data? What happens if you choose different values of K? In the real world, you won't know the \"right\" value of K to start with - you'll need to converge on it yourself."
      ]
    },
    {
      "cell_type": "code",
      "execution_count": null,
      "metadata": {
        "id": "T33XrZu8wOEu"
      },
      "outputs": [],
      "source": []
    }
  ],
  "metadata": {
    "kernelspec": {
      "display_name": "Python 3",
      "language": "python",
      "name": "python3"
    },
    "language_info": {
      "codemirror_mode": {
        "name": "ipython",
        "version": 3
      },
      "file_extension": ".py",
      "mimetype": "text/x-python",
      "name": "python",
      "nbconvert_exporter": "python",
      "pygments_lexer": "ipython3",
      "version": "3.7.3"
    },
    "colab": {
      "provenance": [],
      "include_colab_link": true
    }
  },
  "nbformat": 4,
  "nbformat_minor": 0
}