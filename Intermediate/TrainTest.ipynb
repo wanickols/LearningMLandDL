{
  "cells": [
    {
      "cell_type": "markdown",
      "metadata": {
        "id": "view-in-github",
        "colab_type": "text"
      },
      "source": [
        "<a href=\"https://colab.research.google.com/github/wanickols01/LearningMLandDL/blob/main/TrainTest.ipynb\" target=\"_parent\"><img src=\"https://colab.research.google.com/assets/colab-badge.svg\" alt=\"Open In Colab\"/></a>"
      ]
    },
    {
      "cell_type": "markdown",
      "metadata": {
        "id": "ggcuNHRpPXUg"
      },
      "source": [
        "# Train / Test"
      ]
    },
    {
      "cell_type": "markdown",
      "metadata": {
        "id": "mbpEEqc-PXUh"
      },
      "source": [
        "We'll start by creating some data set that we want to build a model for (in this case a polynomial regression):"
      ]
    },
    {
      "cell_type": "code",
      "execution_count": 1,
      "metadata": {
        "colab": {
          "base_uri": "https://localhost:8080/",
          "height": 282
        },
        "id": "Vs0bETOWPXUh",
        "outputId": "e4f8b117-20fe-48fd-c71b-cdba0ca0fde6"
      },
      "outputs": [
        {
          "output_type": "execute_result",
          "data": {
            "text/plain": [
              "<matplotlib.collections.PathCollection at 0x7fd6a8142880>"
            ]
          },
          "metadata": {},
          "execution_count": 1
        },
        {
          "output_type": "display_data",
          "data": {
            "text/plain": [
              "<Figure size 432x288 with 1 Axes>"
            ],
            "image/png": "[encoded data removed]"
          },
          "metadata": {
            "needs_background": "light"
          }
        }
      ],
      "source": [
        "%matplotlib inline\n",
        "import numpy as np\n",
        "from pylab import *\n",
        "\n",
        "np.random.seed(2)\n",
        "\n",
        "pageSpeeds = np.random.normal(3.0, 1.0, 100)\n",
        "purchaseAmount = np.random.normal(50.0, 30.0, 100) / pageSpeeds\n",
        "\n",
        "\n",
        "scatter(pageSpeeds, purchaseAmount)"
      ]
    },
    {
      "cell_type": "markdown",
      "metadata": {
        "id": "Bc5Bi9H1PXUi"
      },
      "source": [
        "Now we'll split the data in two - 80% of it will be used for \"training\" our model, and the other 20% for testing it. This way we can avoid overfitting."
      ]
    },
    {
      "cell_type": "code",
      "execution_count": 2,
      "metadata": {
        "id": "ISSdMzMUPXUi"
      },
      "outputs": [],
      "source": [
        "# Takes 80 prcent for training\n",
        "## in real world you'd want to shuffel this, but our starting data is random\n",
        "trainX = pageSpeeds[:80]\n",
        "testX = pageSpeeds[80:]\n",
        "\n",
        "trainY = purchaseAmount[:80]\n",
        "testY = purchaseAmount[80:]\n"
      ]
    },
    {
      "cell_type": "markdown",
      "metadata": {
        "id": "J0_h4StQPXUi"
      },
      "source": [
        "Here's our training dataset:"
      ]
    },
    {
      "cell_type": "code",
      "execution_count": 3,
      "metadata": {
        "colab": {
          "base_uri": "https://localhost:8080/",
          "height": 282
        },
        "id": "TKlU0gixPXUi",
        "outputId": "42d202ac-afa8-4985-851b-e7ed391f20a0"
      },
      "outputs": [
        {
          "output_type": "execute_result",
          "data": {
            "text/plain": [
              "<matplotlib.collections.PathCollection at 0x7fd6a0db6580>"
            ]
          },
          "metadata": {},
          "execution_count": 3
        },
        {
          "output_type": "display_data",
          "data": {
            "text/plain": [
              "<Figure size 432x288 with 1 Axes>"
            ],
            "image/png": "[encoded data removed]"
          },
          "metadata": {
            "needs_background": "light"
          }
        }
      ],
      "source": [
        "scatter(trainX, trainY)"
      ]
    },
    {
      "cell_type": "markdown",
      "metadata": {
        "id": "mlTKquuLPXUj"
      },
      "source": [
        "And our test dataset:"
      ]
    },
    {
      "cell_type": "code",
      "execution_count": 4,
      "metadata": {
        "colab": {
          "base_uri": "https://localhost:8080/",
          "height": 282
        },
        "id": "H_opVdGiPXUj",
        "outputId": "8e3b4cef-ebf5-42ca-e568-45f3e7afa8e7"
      },
      "outputs": [
        {
          "output_type": "execute_result",
          "data": {
            "text/plain": [
              "<matplotlib.collections.PathCollection at 0x7fd6a0da4730>"
            ]
          },
          "metadata": {},
          "execution_count": 4
        },
        {
          "output_type": "display_data",
          "data": {
            "text/plain": [
              "<Figure size 432x288 with 1 Axes>"
            ],
            "image/png": "[encoded data removed]"
          },
          "metadata": {
            "needs_background": "light"
          }
        }
      ],
      "source": [
        "scatter(testX, testY)"
      ]
    },
    {
      "cell_type": "markdown",
      "metadata": {
        "id": "JY4-ZefcPXUj"
      },
      "source": [
        "Now we'll try to fit an 8th-degree polynomial to this data (which is almost certainly overfitting, given what we know about how it was generated!)"
      ]
    },
    {
      "cell_type": "code",
      "execution_count": 51,
      "metadata": {
        "id": "d09_8teVPXUj"
      },
      "outputs": [],
      "source": [
        "x = np.array(trainX)\n",
        "y = np.array(trainY)\n",
        "\n",
        "p4 = np.poly1d(np.polyfit(x, y, 7))"
      ]
    },
    {
      "cell_type": "markdown",
      "metadata": {
        "id": "2eZRtlPCPXUj"
      },
      "source": [
        "Let's plot our polynomial against the training data:"
      ]
    },
    {
      "cell_type": "code",
      "execution_count": 52,
      "metadata": {
        "colab": {
          "base_uri": "https://localhost:8080/",
          "height": 269
        },
        "id": "qOzcXv2ePXUj",
        "outputId": "8074dc7d-242e-4b80-bb22-bc55112e6ed2"
      },
      "outputs": [
        {
          "output_type": "display_data",
          "data": {
            "text/plain": [
              "<Figure size 432x288 with 1 Axes>"
            ],
            "image/png": "[encoded data removed]"
          },
          "metadata": {
            "needs_background": "light"
          }
        }
      ],
      "source": [
        "import matplotlib.pyplot as plt\n",
        "\n",
        "xp = np.linspace(0, 7, 100)\n",
        "axes = plt.axes()\n",
        "axes.set_xlim([0,7])\n",
        "axes.set_ylim([0, 200])\n",
        "plt.scatter(x, y)\n",
        "plt.plot(xp, p4(xp), c='r')\n",
        "plt.show()\n"
      ]
    },
    {
      "cell_type": "markdown",
      "metadata": {
        "id": "AkluftDKPXUj"
      },
      "source": [
        "And against our test data:"
      ]
    },
    {
      "cell_type": "code",
      "execution_count": 53,
      "metadata": {
        "colab": {
          "base_uri": "https://localhost:8080/",
          "height": 269
        },
        "id": "Tm40lXiuPXUj",
        "outputId": "181e0ce2-ab50-44bf-ba8e-1db930c880d9"
      },
      "outputs": [
        {
          "output_type": "display_data",
          "data": {
            "text/plain": [
              "<Figure size 432x288 with 1 Axes>"
            ],
            "image/png": "[encoded data removed]"
          },
          "metadata": {
            "needs_background": "light"
          }
        }
      ],
      "source": [
        "testx = np.array(testX)\n",
        "testy = np.array(testY)\n",
        "\n",
        "axes = plt.axes()\n",
        "axes.set_xlim([0,7])\n",
        "axes.set_ylim([0, 200])\n",
        "plt.scatter(testx, testy)\n",
        "plt.plot(xp, p4(xp), c='r')\n",
        "plt.show()"
      ]
    },
    {
      "cell_type": "markdown",
      "metadata": {
        "id": "JNyJ3_N6PXUj"
      },
      "source": [
        "Doesn't look that bad when you just eyeball it, but the r-squared score on the test data is kind of horrible! This tells us that our model isn't all that great..."
      ]
    },
    {
      "cell_type": "code",
      "execution_count": 54,
      "metadata": {
        "colab": {
          "base_uri": "https://localhost:8080/"
        },
        "id": "A1P6HH_2PXUj",
        "outputId": "453a20cd-430d-4169-c797-3ea40530c92a"
      },
      "outputs": [
        {
          "output_type": "stream",
          "name": "stdout",
          "text": [
            "0.5461451452851971\n"
          ]
        }
      ],
      "source": [
        "from sklearn.metrics import r2_score\n",
        "\n",
        "r2 = r2_score(testy, p4(testx))\n",
        "\n",
        "print(r2)\n"
      ]
    },
    {
      "cell_type": "markdown",
      "metadata": {
        "id": "kqr8NSZoPXUj"
      },
      "source": [
        "...even though it fits the training data better:"
      ]
    },
    {
      "cell_type": "code",
      "execution_count": 55,
      "metadata": {
        "colab": {
          "base_uri": "https://localhost:8080/"
        },
        "id": "-1ZfrurRPXUj",
        "outputId": "245ecb92-9a19-4519-eeac-4652a0a96438"
      },
      "outputs": [
        {
          "output_type": "stream",
          "name": "stdout",
          "text": [
            "0.6170116571732045\n"
          ]
        }
      ],
      "source": [
        "from sklearn.metrics import r2_score\n",
        "\n",
        "r2 = r2_score(np.array(trainY), p4(np.array(trainX)))\n",
        "\n",
        "print(r2)"
      ]
    },
    {
      "cell_type": "markdown",
      "metadata": {
        "id": "aOjbZOx1PXUk"
      },
      "source": [
        "If you're working with a Pandas DataFrame (using tabular, labeled data,) scikit-learn has built-in train_test_split functions to make this easy to do.\n",
        "\n",
        "Later we'll talk about even more robust forms of train/test, like K-fold cross-validation - where we try out multiple different splits of the data, to make sure we didn't just get lucky with where we split it."
      ]
    },
    {
      "cell_type": "markdown",
      "metadata": {
        "id": "NqDGEtplPXUk"
      },
      "source": [
        "## Activity"
      ]
    },
    {
      "cell_type": "markdown",
      "metadata": {
        "id": "4xNfANqHPXUk"
      },
      "source": [
        "Try measuring the error on the test data using different degree polynomial fits. What degree works best?"
      ]
    },
    {
      "cell_type": "code",
      "execution_count": 9,
      "metadata": {
        "id": "7pTvsxPHPXUk"
      },
      "outputs": [],
      "source": [
        "# 7 and 5 are both pretty good, much better than the orignal 8, 7 is the best. After 8 it is too fitted and goes down in test, and before 5 it is not fitted enough to be accurate"
      ]
    }
  ],
  "metadata": {
    "kernelspec": {
      "display_name": "Python 3",
      "language": "python",
      "name": "python3"
    },
    "language_info": {
      "codemirror_mode": {
        "name": "ipython",
        "version": 3
      },
      "file_extension": ".py",
      "mimetype": "text/x-python",
      "name": "python",
      "nbconvert_exporter": "python",
      "pygments_lexer": "ipython3",
      "version": "3.7.3"
    },
    "colab": {
      "provenance": [],
      "include_colab_link": true
    }
  },
  "nbformat": 4,
  "nbformat_minor": 0
}