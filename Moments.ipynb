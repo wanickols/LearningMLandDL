{
  "cells": [
    {
      "cell_type": "markdown",
      "metadata": {
        "id": "view-in-github",
        "colab_type": "text"
      },
      "source": [
        "<a href=\"https://colab.research.google.com/github/wanickols01/LearningMLandDL/blob/main/Moments.ipynb\" target=\"_parent\"><img src=\"https://colab.research.google.com/assets/colab-badge.svg\" alt=\"Open In Colab\"/></a>"
      ]
    },
    {
      "cell_type": "markdown",
      "metadata": {
        "id": "zPrfW8Pplosg"
      },
      "source": [
        "# Moments: Mean, Variance, Skew, Kurtosis"
      ]
    },
    {
      "cell_type": "markdown",
      "metadata": {
        "id": "zZCSYdxelosh"
      },
      "source": [
        "Create a roughly normal-distributed random set of data:"
      ]
    },
    {
      "cell_type": "code",
      "execution_count": 15,
      "metadata": {
        "colab": {
          "base_uri": "https://localhost:8080/",
          "height": 265
        },
        "id": "Y6_iDXZHlosh",
        "outputId": "10960114-8f38-4f99-b9f5-552c00f7ae6a"
      },
      "outputs": [
        {
          "output_type": "display_data",
          "data": {
            "text/plain": [
              "<Figure size 432x288 with 1 Axes>"
            ],
            "image/png": "[encoded data removed]"
          },
          "metadata": {
            "needs_background": "light"
          }
        }
      ],
      "source": [
        "%matplotlib inline\n",
        "import numpy as np\n",
        "import matplotlib.pyplot as plt\n",
        "\n",
        "vals = np.random.normal(0, 0.5, 10000)\n",
        "\n",
        "plt.hist(vals, 50)\n",
        "plt.show()"
      ]
    },
    {
      "cell_type": "markdown",
      "metadata": {
        "id": "jacYknR_losi"
      },
      "source": [
        "The first moment is the mean; this data should average out to about 0:"
      ]
    },
    {
      "cell_type": "code",
      "execution_count": 16,
      "metadata": {
        "colab": {
          "base_uri": "https://localhost:8080/"
        },
        "id": "GJ6ZbLaxlosi",
        "outputId": "89f201bd-6217-499b-b388-cc5e2f4eadd4"
      },
      "outputs": [
        {
          "output_type": "execute_result",
          "data": {
            "text/plain": [
              "0.003817623939841515"
            ]
          },
          "metadata": {},
          "execution_count": 16
        }
      ],
      "source": [
        "np.mean(vals)"
      ]
    },
    {
      "cell_type": "markdown",
      "metadata": {
        "id": "TToGt0RElosi"
      },
      "source": [
        "The second moment is the variance:"
      ]
    },
    {
      "cell_type": "code",
      "execution_count": 17,
      "metadata": {
        "colab": {
          "base_uri": "https://localhost:8080/"
        },
        "id": "fuDxQvtLlosj",
        "outputId": "9a38d5ec-f560-4c06-f5d1-79204d969dbc"
      },
      "outputs": [
        {
          "output_type": "execute_result",
          "data": {
            "text/plain": [
              "0.25090705512749306"
            ]
          },
          "metadata": {},
          "execution_count": 17
        }
      ],
      "source": [
        "np.var(vals)"
      ]
    },
    {
      "cell_type": "markdown",
      "metadata": {
        "id": "uMuEyQDllosj"
      },
      "source": [
        "The third moment is skew - since our data is nicely centered around 0, it should be almost 0:"
      ]
    },
    {
      "cell_type": "code",
      "execution_count": null,
      "metadata": {
        "id": "G_tCdbOIlosj"
      },
      "outputs": [],
      "source": [
        "import scipy.stats as sp\n",
        "sp.skew(vals)"
      ]
    },
    {
      "cell_type": "markdown",
      "metadata": {
        "id": "w_S14WN-losj"
      },
      "source": [
        "The fourth moment is \"kurtosis\", which describes the shape of the tail. For a normal distribution, this is 0:"
      ]
    },
    {
      "cell_type": "code",
      "execution_count": null,
      "metadata": {
        "id": "B-CYqu__losj",
        "outputId": "1cab9359-a819-48e3-9088-75378a0b4284"
      },
      "outputs": [
        {
          "data": {
            "text/plain": [
              "-0.07627510862675502"
            ]
          },
          "execution_count": 5,
          "metadata": {},
          "output_type": "execute_result"
        }
      ],
      "source": [
        "sp.kurtosis(vals)"
      ]
    },
    {
      "cell_type": "markdown",
      "metadata": {
        "id": "a6rfCT8Tlosj"
      },
      "source": [
        "## Activity"
      ]
    },
    {
      "cell_type": "markdown",
      "metadata": {
        "id": "CSyA9jFalosj"
      },
      "source": [
        "Understanding skew: change the normal distribution to be centered around 10 instead of 0, and see what effect that has on the moments.\n",
        "\n",
        "The skew is still near zero; skew is associated with the shape of the distribution, not its actual offset in X."
      ]
    },
    {
      "cell_type": "code",
      "execution_count": null,
      "metadata": {
        "id": "0UHju7eNlosj"
      },
      "outputs": [],
      "source": []
    }
  ],
  "metadata": {
    "kernelspec": {
      "display_name": "Python 3",
      "language": "python",
      "name": "python3"
    },
    "language_info": {
      "codemirror_mode": {
        "name": "ipython",
        "version": 3
      },
      "file_extension": ".py",
      "mimetype": "text/x-python",
      "name": "python",
      "nbconvert_exporter": "python",
      "pygments_lexer": "ipython3",
      "version": "3.7.3"
    },
    "colab": {
      "provenance": [],
      "include_colab_link": true
    }
  },
  "nbformat": 4,
  "nbformat_minor": 0
}