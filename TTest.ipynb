{
  "cells": [
    {
      "cell_type": "markdown",
      "metadata": {
        "id": "view-in-github",
        "colab_type": "text"
      },
      "source": [
        "<a href=\"https://colab.research.google.com/github/wanickols01/LearningMLandDL/blob/main/TTest.ipynb\" target=\"_parent\"><img src=\"https://colab.research.google.com/assets/colab-badge.svg\" alt=\"Open In Colab\"/></a>"
      ]
    },
    {
      "cell_type": "markdown",
      "metadata": {
        "id": "kKkSWW-ufFR5"
      },
      "source": [
        "# T-Tests and P-Values"
      ]
    },
    {
      "cell_type": "markdown",
      "metadata": {
        "id": "yj00IJIcfFR6"
      },
      "source": [
        "Let's say we're running an A/B test. We'll fabricate some data that randomly assigns order amounts from customers in sets A and B, with B being a little bit higher:"
      ]
    },
    {
      "cell_type": "code",
      "execution_count": 15,
      "metadata": {
        "colab": {
          "base_uri": "https://localhost:8080/"
        },
        "id": "eMSyca6-fFR6",
        "outputId": "1ddf0493-3505-46f6-e702-238b5d7904c1"
      },
      "outputs": [
        {
          "output_type": "execute_result",
          "data": {
            "text/plain": [
              "Ttest_indResult(statistic=1.7722489458362929, pvalue=0.0763684642786062)"
            ]
          },
          "metadata": {},
          "execution_count": 15
        }
      ],
      "source": [
        "import numpy as np\n",
        "from scipy import stats\n",
        "\n",
        "A = np.random.normal(25.0, 5.0, 10000)\n",
        "B = np.random.normal(24.9, 5.0, 10000)\n",
        "\n",
        "stats.ttest_ind(A, B)"
      ]
    },
    {
      "cell_type": "markdown",
      "metadata": {
        "id": "jJbmp0kzfFR7"
      },
      "source": [
        "The t-statistic is a measure of the difference between the two sets expressed in units of standard error. Put differently, it's the size of the difference relative to the variance in the data. A high t value means there's probably a real difference between the two sets; you have \"significance\". The P-value is a measure of the probability of an observation lying at extreme t-values; so a low p-value also implies \"significance.\" If you're looking for a \"statistically significant\" result, you want to see a very low p-value and a high t-statistic (well, a high absolute value of the t-statistic more precisely). In the real world, statisticians seem to put more weight on the p-value result.\n",
        "\n",
        "Let's change things up so both A and B are just random, generated under the same parameters. So there's no \"real\" difference between the two:"
      ]
    },
    {
      "cell_type": "code",
      "execution_count": 2,
      "metadata": {
        "colab": {
          "base_uri": "https://localhost:8080/"
        },
        "id": "Z-fj3VuZfFR7",
        "outputId": "5501795d-d072-46a4-a3d0-a47225f70f1c"
      },
      "outputs": [
        {
          "output_type": "execute_result",
          "data": {
            "text/plain": [
              "Ttest_indResult(statistic=0.42928456343684507, pvalue=0.6677207738305235)"
            ]
          },
          "metadata": {},
          "execution_count": 2
        }
      ],
      "source": [
        "B = np.random.normal(25.0, 5.0, 10000)\n",
        "\n",
        "stats.ttest_ind(A, B)"
      ]
    },
    {
      "cell_type": "raw",
      "metadata": {
        "id": "tDlSyf8zfFR7"
      },
      "source": [
        "Now, our t-statistic is much lower and our p-value is really high. This supports the null hypothesis - that there is no real difference in behavior between these two sets.\n",
        "\n",
        "Does the sample size make a difference? Let's do the same thing - where the null hypothesis is accurate - but with 10X as many samples:"
      ]
    },
    {
      "cell_type": "code",
      "execution_count": 3,
      "metadata": {
        "colab": {
          "base_uri": "https://localhost:8080/"
        },
        "id": "3faPamstfFR7",
        "outputId": "c9e61e60-b166-4bb0-e686-e07b1e6a54b8"
      },
      "outputs": [
        {
          "output_type": "execute_result",
          "data": {
            "text/plain": [
              "Ttest_indResult(statistic=-0.6223730868623711, pvalue=0.5336972824811781)"
            ]
          },
          "metadata": {},
          "execution_count": 3
        }
      ],
      "source": [
        "A = np.random.normal(25.0, 5.0, 100000)\n",
        "B = np.random.normal(25.0, 5.0, 100000)\n",
        "\n",
        "stats.ttest_ind(A, B)"
      ]
    },
    {
      "cell_type": "markdown",
      "metadata": {
        "id": "u7_tJGapfFR7"
      },
      "source": [
        "Our p-value actually got a little lower, and the t-test a little larger, but still not enough to declare a real difference. So, you could have reached the right decision with just 10,000 samples instead of 100,000. Even a million samples doesn't help, so if we were to keep running this A/B test for years, you'd never acheive the result you're hoping for:"
      ]
    },
    {
      "cell_type": "code",
      "execution_count": 4,
      "metadata": {
        "colab": {
          "base_uri": "https://localhost:8080/"
        },
        "id": "ejGpngAKfFR8",
        "outputId": "6db30a87-a846-4ee2-ae79-04973df1889c"
      },
      "outputs": [
        {
          "output_type": "execute_result",
          "data": {
            "text/plain": [
              "Ttest_indResult(statistic=-0.7775806549927775, pvalue=0.43681636106666555)"
            ]
          },
          "metadata": {},
          "execution_count": 4
        }
      ],
      "source": [
        "A = np.random.normal(25.0, 5.0, 1000000)\n",
        "B = np.random.normal(25.0, 5.0, 1000000)\n",
        "\n",
        "stats.ttest_ind(A, B)"
      ]
    },
    {
      "cell_type": "markdown",
      "metadata": {
        "id": "T0_6yJiYfFR8"
      },
      "source": [
        "If we compare the same set to itself, by definition we get a t-statistic of 0 and p-value of 1:"
      ]
    },
    {
      "cell_type": "code",
      "execution_count": 5,
      "metadata": {
        "colab": {
          "base_uri": "https://localhost:8080/"
        },
        "id": "rXfqwOlmfFR8",
        "outputId": "e10870bc-975f-4002-a813-2588d1d99383"
      },
      "outputs": [
        {
          "output_type": "execute_result",
          "data": {
            "text/plain": [
              "Ttest_indResult(statistic=0.0, pvalue=1.0)"
            ]
          },
          "metadata": {},
          "execution_count": 5
        }
      ],
      "source": [
        "stats.ttest_ind(A, A)"
      ]
    },
    {
      "cell_type": "markdown",
      "metadata": {
        "id": "ZSDqhyNufFR8"
      },
      "source": [
        "The threshold of significance on p-value is really just a judgment call. As everything is a matter of probabilities, you can never definitively say that an experiment's results are \"significant\". But you can use the t-test and p-value as a measure of signficance, and look at trends in these metrics as the experiment runs to see if there might be something real happening between the two."
      ]
    },
    {
      "cell_type": "markdown",
      "metadata": {
        "id": "nmDgS-80fFR8"
      },
      "source": [
        "## Activity"
      ]
    },
    {
      "cell_type": "markdown",
      "metadata": {
        "id": "Po6_0K2XfFR8"
      },
      "source": [
        "Experiment with more different distributions for A and B, and see the effect it has on the t-test."
      ]
    },
    {
      "cell_type": "code",
      "execution_count": null,
      "metadata": {
        "id": "oLFyPwF3fFR8"
      },
      "outputs": [],
      "source": []
    }
  ],
  "metadata": {
    "kernelspec": {
      "display_name": "Python 3",
      "language": "python",
      "name": "python3"
    },
    "language_info": {
      "codemirror_mode": {
        "name": "ipython",
        "version": 3
      },
      "file_extension": ".py",
      "mimetype": "text/x-python",
      "name": "python",
      "nbconvert_exporter": "python",
      "pygments_lexer": "ipython3",
      "version": "3.7.3"
    },
    "colab": {
      "provenance": [],
      "include_colab_link": true
    }
  },
  "nbformat": 4,
  "nbformat_minor": 0
}