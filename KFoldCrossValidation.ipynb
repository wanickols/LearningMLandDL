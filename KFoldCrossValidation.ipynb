{
  "cells": [
    {
      "cell_type": "markdown",
      "metadata": {
        "id": "view-in-github",
        "colab_type": "text"
      },
      "source": [
        "<a href=\"https://colab.research.google.com/github/wanickols01/LearningMLandDL/blob/main/KFoldCrossValidation.ipynb\" target=\"_parent\"><img src=\"https://colab.research.google.com/assets/colab-badge.svg\" alt=\"Open In Colab\"/></a>"
      ]
    },
    {
      "cell_type": "markdown",
      "metadata": {
        "id": "fN6f5ZxAapYP"
      },
      "source": [
        "# K-Fold Cross Validation"
      ]
    },
    {
      "cell_type": "raw",
      "metadata": {
        "id": "WH6dvOxVapYR"
      },
      "source": [
        "Let's revisit the Iris data set:"
      ]
    },
    {
      "cell_type": "code",
      "execution_count": 1,
      "metadata": {
        "id": "qeEpGRHDapYR"
      },
      "outputs": [],
      "source": [
        "import numpy as np\n",
        "from sklearn.model_selection import cross_val_score, train_test_split\n",
        "from sklearn import datasets\n",
        "from sklearn import svm\n",
        "\n",
        "iris = datasets.load_iris()\n"
      ]
    },
    {
      "cell_type": "markdown",
      "metadata": {
        "id": "Sr4N54JVapYS"
      },
      "source": [
        "A single train/test split is made easy with the train_test_split function in the cross_validation library:"
      ]
    },
    {
      "cell_type": "code",
      "execution_count": 7,
      "metadata": {
        "colab": {
          "base_uri": "https://localhost:8080/"
        },
        "id": "anbML5YgapYS",
        "outputId": "5b0ed6dd-fcb4-4041-e837-636aa02cd199"
      },
      "outputs": [
        {
          "output_type": "execute_result",
          "data": {
            "text/plain": [
              "0.9666666666666667"
            ]
          },
          "metadata": {},
          "execution_count": 7
        }
      ],
      "source": [
        "# Split the iris data into train/test data sets with 40% reserved for testing\n",
        "X_train, X_test, y_train, y_test = train_test_split(iris.data, iris.target, test_size=0.4, random_state=0)\n",
        "\n",
        "# Build an SVC model for predicting iris classifications using training data\n",
        "clf = svm.SVC(kernel='linear', C=1).fit(X_train, y_train)\n",
        "\n",
        "# Now measure its performance with the test data\n",
        "clf.score(X_test, y_test)   "
      ]
    },
    {
      "cell_type": "markdown",
      "metadata": {
        "id": "3fsga8spapYS"
      },
      "source": [
        "K-Fold cross validation is just as easy; let's use a K of 5:"
      ]
    },
    {
      "cell_type": "code",
      "execution_count": 8,
      "metadata": {
        "colab": {
          "base_uri": "https://localhost:8080/"
        },
        "id": "Grj8xqZHapYT",
        "outputId": "b9a57941-e2a4-4ac5-a8f2-51bd6a6f2665"
      },
      "outputs": [
        {
          "output_type": "stream",
          "name": "stdout",
          "text": [
            "[0.96666667 1.         0.96666667 0.96666667 1.        ]\n",
            "0.9800000000000001\n"
          ]
        }
      ],
      "source": [
        "# We give cross_val_score a model, the entire data set and its \"real\" values, and the number of folds:\n",
        "scores = cross_val_score(clf, iris.data, iris.target, cv=5)\n",
        "\n",
        "# Print the accuracy for each fold:\n",
        "print(scores)\n",
        "\n",
        "# And the mean accuracy of all 5 folds:\n",
        "print(scores.mean())"
      ]
    },
    {
      "cell_type": "markdown",
      "metadata": {
        "id": "t_rs7uYdapYT"
      },
      "source": [
        "Our model is even better than we thought! Can we do better? Let's try a different kernel (poly):"
      ]
    },
    {
      "cell_type": "code",
      "execution_count": 19,
      "metadata": {
        "colab": {
          "base_uri": "https://localhost:8080/"
        },
        "id": "_sDFBW7GapYT",
        "outputId": "0bb0bd60-a4a6-4f09-bf99-5c0f023d47c1"
      },
      "outputs": [
        {
          "output_type": "stream",
          "name": "stdout",
          "text": [
            "[0.96666667 1.         0.96666667 0.96666667 1.        ]\n",
            "0.9800000000000001\n"
          ]
        }
      ],
      "source": [
        "clf = svm.SVC(kernel='poly', C=1)\n",
        "scores = cross_val_score(clf, iris.data, iris.target, cv=5)\n",
        "print(scores)\n",
        "print(scores.mean())"
      ]
    },
    {
      "cell_type": "markdown",
      "metadata": {
        "id": "-_ATUGFjapYT"
      },
      "source": [
        "No! The more complex polynomial kernel produced lower accuracy than a simple linear kernel. The polynomial kernel is overfitting. But we couldn't have told that with a single train/test split:"
      ]
    },
    {
      "cell_type": "code",
      "execution_count": 10,
      "metadata": {
        "colab": {
          "base_uri": "https://localhost:8080/"
        },
        "id": "rdELH8_TapYU",
        "outputId": "79335d1a-ab70-4bf6-db20-2c3efbf9ab94"
      },
      "outputs": [
        {
          "output_type": "execute_result",
          "data": {
            "text/plain": [
              "0.9"
            ]
          },
          "metadata": {},
          "execution_count": 10
        }
      ],
      "source": [
        "# Build an SVC model for predicting iris classifications using training data\n",
        "clf = svm.SVC(kernel='poly', C=1).fit(X_train, y_train)\n",
        "\n",
        "# Now measure its performance with the test data\n",
        "clf.score(X_test, y_test)   "
      ]
    },
    {
      "cell_type": "markdown",
      "metadata": {
        "id": "HlNsm5KsapYU"
      },
      "source": [
        "That's the same score we got with a single train/test split on the linear kernel."
      ]
    },
    {
      "cell_type": "markdown",
      "metadata": {
        "id": "VC8Ju1q_apYU"
      },
      "source": [
        "## Activity"
      ]
    },
    {
      "cell_type": "markdown",
      "metadata": {
        "id": "q2Nm9sWKapYU"
      },
      "source": [
        "The \"poly\" kernel for SVC actually has another attribute for the number of degrees of the polynomial used, which defaults to 3. For example, svm.SVC(kernel='poly', degree=3, C=1)\n",
        "\n",
        "We think the default third-degree polynomial is overfitting, based on the results above. But how about 2? Give that a try and compare it to the linear kernel."
      ]
    },
    {
      "cell_type": "code",
      "execution_count": 5,
      "metadata": {
        "id": "EQ8SF8iYapYU"
      },
      "outputs": [],
      "source": []
    }
  ],
  "metadata": {
    "kernelspec": {
      "display_name": "Python 3",
      "language": "python",
      "name": "python3"
    },
    "language_info": {
      "codemirror_mode": {
        "name": "ipython",
        "version": 3
      },
      "file_extension": ".py",
      "mimetype": "text/x-python",
      "name": "python",
      "nbconvert_exporter": "python",
      "pygments_lexer": "ipython3",
      "version": "3.7.3"
    },
    "colab": {
      "provenance": [],
      "include_colab_link": true
    }
  },
  "nbformat": 4,
  "nbformat_minor": 0
}