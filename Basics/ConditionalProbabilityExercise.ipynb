{
  "cells": [
    {
      "cell_type": "markdown",
      "metadata": {
        "id": "view-in-github",
        "colab_type": "text"
      },
      "source": [
        "<a href=\"https://colab.research.google.com/github/wanickols01/LearningMLandDL/blob/main/ConditionalProbabilityExercise.ipynb\" target=\"_parent\"><img src=\"https://colab.research.google.com/assets/colab-badge.svg\" alt=\"Open In Colab\"/></a>"
      ]
    },
    {
      "cell_type": "markdown",
      "metadata": {
        "id": "8aCqQFQj5bCy"
      },
      "source": [
        "# Conditional Probability Activity & Exercise"
      ]
    },
    {
      "cell_type": "markdown",
      "metadata": {
        "id": "aUHq1uxF5bC0"
      },
      "source": [
        "Below is some code to create some fake data on how much stuff people purchase given their age range.\n",
        "\n",
        "It generates 100,000 random \"people\" and randomly assigns them as being in their 20's, 30's, 40's, 50's, 60's, or 70's.\n",
        "\n",
        "It then assigns a lower probability for young people to buy stuff.\n",
        "\n",
        "In the end, we have two Python dictionaries:\n",
        "\n",
        "\"totals\" contains the total number of people in each age group.\n",
        "\"purchases\" contains the total number of things purchased by people in each age group.\n",
        "The grand total of purchases is in totalPurchases, and we know the total number of people is 100,000.\n",
        "\n",
        "Let's run it and have a look:"
      ]
    },
    {
      "cell_type": "code",
      "execution_count": 13,
      "metadata": {
        "id": "NkOnAQV35bC0"
      },
      "outputs": [],
      "source": [
        "##Commented so that this code makes sense\n",
        "from numpy import random\n",
        "random.seed(0) #sets seed to 0 to have consistant results\n",
        "\n",
        "totals = {20:0, 30:0, 40:0, 50:0, 60:0, 70:0} #dict for people\n",
        "purchases = {20:0, 30:0, 40:0, 50:0, 60:0, 70:0} #dict for purchases\n",
        "totalPurchases = 0 #counter for totalpurchases\n",
        "for _ in range(100000): #loop for 100,000 people # _ is a placeholder since we don't use the variable in the for loop\n",
        "    ageDecade = random.choice([20, 30, 40, 50, 60, 70]) # assign a decade to person\n",
        "    purchaseProbability = float(ageDecade) / 100.0 # deciding odds of purchase, where older will have hire percentages\n",
        "    totals[ageDecade] += 1 #bump total\n",
        "    if (random.random() < purchaseProbability): #random select a value between 0 and 1, and then check against their purchase probability to see if a purchase was made\n",
        "        totalPurchases += 1 #pruchase made\n",
        "        purchases[ageDecade] += 1 #purchase attributed to age"
      ]
    },
    {
      "cell_type": "code",
      "execution_count": 14,
      "metadata": {
        "colab": {
          "base_uri": "https://localhost:8080/"
        },
        "id": "g4hnNcfk5bC1",
        "outputId": "bb7f86c1-d30a-4d71-f0e7-204982ddd5c7"
      },
      "outputs": [
        {
          "output_type": "execute_result",
          "data": {
            "text/plain": [
              "{20: 16576, 30: 16619, 40: 16632, 50: 16805, 60: 16664, 70: 16704}"
            ]
          },
          "metadata": {},
          "execution_count": 14
        }
      ],
      "source": [
        "totals"
      ]
    },
    {
      "cell_type": "code",
      "execution_count": 15,
      "metadata": {
        "colab": {
          "base_uri": "https://localhost:8080/"
        },
        "id": "vxHMd9n15bC1",
        "outputId": "e716cda5-5094-483d-ddda-b47d0e138e40"
      },
      "outputs": [
        {
          "output_type": "execute_result",
          "data": {
            "text/plain": [
              "{20: 7640, 30: 7548, 40: 7631, 50: 7623, 60: 7560, 70: 7726}"
            ]
          },
          "metadata": {},
          "execution_count": 15
        }
      ],
      "source": [
        "purchases"
      ]
    },
    {
      "cell_type": "code",
      "execution_count": 16,
      "metadata": {
        "colab": {
          "base_uri": "https://localhost:8080/"
        },
        "id": "giwTE64B5bC1",
        "outputId": "37a7a1ca-e2d2-4e46-f076-54166c30c653"
      },
      "outputs": [
        {
          "output_type": "execute_result",
          "data": {
            "text/plain": [
              "45728"
            ]
          },
          "metadata": {},
          "execution_count": 16
        }
      ],
      "source": [
        "totalPurchases"
      ]
    },
    {
      "cell_type": "markdown",
      "metadata": {
        "id": "pPfHpDDC5bC2"
      },
      "source": [
        "Let's play with conditional probability.\n",
        "\n",
        "First let's compute P(E|F), where E is \"purchase\" and F is \"you're in your 30's\". The probability of someone in their 30's buying something is just the percentage of how many 30-year-olds bought something:"
      ]
    },
    {
      "cell_type": "code",
      "execution_count": 17,
      "metadata": {
        "colab": {
          "base_uri": "https://localhost:8080/"
        },
        "id": "WgpLDN5w5bC2",
        "outputId": "251707e6-31ea-4ca8-c467-c3b846f73361"
      },
      "outputs": [
        {
          "output_type": "stream",
          "name": "stdout",
          "text": [
            "P(purchase | 30s): 0.4541789518021542\n"
          ]
        }
      ],
      "source": [
        "PEF = float(purchases[30]) / float(totals[30]) # P(E|F)\n",
        "print('P(purchase | 30s): ' + str(PEF)) # how many people at 30 bought something "
      ]
    },
    {
      "cell_type": "markdown",
      "metadata": {
        "id": "2taIX2rS5bC2"
      },
      "source": [
        "P(F) is just the probability of being 30 in this data set:"
      ]
    },
    {
      "cell_type": "code",
      "execution_count": 18,
      "metadata": {
        "colab": {
          "base_uri": "https://localhost:8080/"
        },
        "id": "IMoiL3yN5bC2",
        "outputId": "171aa16d-1945-49fe-cd24-2adb21c66e09"
      },
      "outputs": [
        {
          "output_type": "stream",
          "name": "stdout",
          "text": [
            "P(30's): 0.16619\n"
          ]
        }
      ],
      "source": [
        "PF = float(totals[30]) / 100000.0\n",
        "print(\"P(30's): \" +  str(PF)) #percent of 30's in dataset"
      ]
    },
    {
      "cell_type": "markdown",
      "metadata": {
        "id": "Fh1qOf_h5bC2"
      },
      "source": [
        "And P(E) is the overall probability of buying something, regardless of your age:"
      ]
    },
    {
      "cell_type": "code",
      "execution_count": 19,
      "metadata": {
        "colab": {
          "base_uri": "https://localhost:8080/"
        },
        "id": "yFViVfib5bC3",
        "outputId": "2564317e-38cc-4c48-8a8f-100068f437f1"
      },
      "outputs": [
        {
          "output_type": "stream",
          "name": "stdout",
          "text": [
            "P(Purchase):0.45728\n"
          ]
        }
      ],
      "source": [
        "PE = float(totalPurchases) / 100000.0\n",
        "print(\"P(Purchase):\" + str(PE)) # purchase percentage for all people "
      ]
    },
    {
      "cell_type": "markdown",
      "metadata": {
        "id": "LgbCqibt5bC3"
      },
      "source": [
        "If E and F were independent, then we would expect P(E | F) to be about the same as P(E). But they're not; P(E) is 0.45, and P(E|F) is 0.3. So, that tells us that E and F are dependent (which we know they are in this example.)"
      ]
    },
    {
      "cell_type": "markdown",
      "metadata": {
        "id": "VXsBWbf35bC3"
      },
      "source": [
        "P(E,F) is different from P(E|F). P(E,F) would be the probability of both being in your 30's and buying something, out of the total population - not just the population of people in their 30's:"
      ]
    },
    {
      "cell_type": "code",
      "execution_count": 20,
      "metadata": {
        "scrolled": true,
        "colab": {
          "base_uri": "https://localhost:8080/"
        },
        "id": "w3riDdq15bC3",
        "outputId": "3ec23281-3f33-4383-93f0-ebbf6ba50e37"
      },
      "outputs": [
        {
          "output_type": "stream",
          "name": "stdout",
          "text": [
            "P(30's, Purchase)0.07548\n"
          ]
        }
      ],
      "source": [
        "print(\"P(30's, Purchase)\" + str(float(purchases[30]) / 100000.0)) #P(E,F)"
      ]
    },
    {
      "cell_type": "markdown",
      "metadata": {
        "id": "0Tl-pxEu5bC3"
      },
      "source": [
        "Let's also compute the product of P(E) and P(F), P(E)P(F):"
      ]
    },
    {
      "cell_type": "code",
      "execution_count": 21,
      "metadata": {
        "colab": {
          "base_uri": "https://localhost:8080/"
        },
        "id": "ZLGvzu4M5bC3",
        "outputId": "85b4833f-4469-4bc5-922c-f9c729cd4164"
      },
      "outputs": [
        {
          "output_type": "stream",
          "name": "stdout",
          "text": [
            "P(30's)P(Purchase)0.0759953632\n"
          ]
        }
      ],
      "source": [
        "print(\"P(30's)P(Purchase)\" + str(PE * PF))"
      ]
    },
    {
      "cell_type": "markdown",
      "metadata": {
        "id": "XjxBegrW5bC3"
      },
      "source": [
        "Something you may learn in stats is that P(E,F) = P(E)P(F), but this assumes E and F are independent. We've found here that P(E,F) is about 0.05, while P(E)P(F) is about 0.075. So when E and F are dependent - and we have a conditional probability going on - we can't just say that P(E,F) = P(E)P(F).\n",
        "\n",
        "We can also check that P(E|F) = P(E,F)/P(F), which is the relationship we showed in the slides - and sure enough, it is:"
      ]
    },
    {
      "cell_type": "code",
      "execution_count": 22,
      "metadata": {
        "colab": {
          "base_uri": "https://localhost:8080/"
        },
        "id": "VPQv-c3_5bC3",
        "outputId": "077b41f6-ba4d-4f84-b163-6ebc8d247f29"
      },
      "outputs": [
        {
          "output_type": "stream",
          "name": "stdout",
          "text": [
            "0.4541789518021542\n"
          ]
        }
      ],
      "source": [
        "print((purchases[30] / 100000.0) / PF) #"
      ]
    },
    {
      "cell_type": "markdown",
      "metadata": {
        "id": "F8ZKljQj5bC4"
      },
      "source": [
        "## Your Assignment"
      ]
    },
    {
      "cell_type": "markdown",
      "metadata": {
        "id": "fB7KI8Vo5bC4"
      },
      "source": [
        "Modify the code above such that the purchase probability does NOT vary with age, making E and F actually independent.\n",
        "\n",
        "Then, confirm that P(E|F) is about the same as P(E), showing that the conditional probability of purchase for a given age is not any different than the a-priori probability of purchase regardless of age.\n"
      ]
    },
    {
      "cell_type": "code",
      "execution_count": 22,
      "metadata": {
        "id": "Ifb2sqDr5bC4"
      },
      "outputs": [],
      "source": []
    }
  ],
  "metadata": {
    "kernelspec": {
      "display_name": "Python 3",
      "language": "python",
      "name": "python3"
    },
    "language_info": {
      "codemirror_mode": {
        "name": "ipython",
        "version": 3
      },
      "file_extension": ".py",
      "mimetype": "text/x-python",
      "name": "python",
      "nbconvert_exporter": "python",
      "pygments_lexer": "ipython3",
      "version": "3.7.3"
    },
    "colab": {
      "provenance": [],
      "include_colab_link": true
    }
  },
  "nbformat": 4,
  "nbformat_minor": 0
}