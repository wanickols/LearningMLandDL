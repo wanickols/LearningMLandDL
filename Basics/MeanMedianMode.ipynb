{
  "cells": [
    {
      "cell_type": "markdown",
      "metadata": {
        "id": "view-in-github",
        "colab_type": "text"
      },
      "source": [
        "<a href=\"https://colab.research.google.com/github/wanickols01/LearningMLandDL/blob/main/MeanMedianMode.ipynb\" target=\"_parent\"><img src=\"https://colab.research.google.com/assets/colab-badge.svg\" alt=\"Open In Colab\"/></a>"
      ]
    },
    {
      "cell_type": "markdown",
      "metadata": {
        "id": "roH2Bc3FaebR"
      },
      "source": [
        "# Mean, Median, Mode, and introducing NumPy"
      ]
    },
    {
      "cell_type": "markdown",
      "metadata": {
        "id": "lerV-f66aebS"
      },
      "source": [
        "## Mean vs. Median"
      ]
    },
    {
      "cell_type": "markdown",
      "metadata": {
        "id": "uT93i0Q1aebT"
      },
      "source": [
        "Let's create some fake income data, centered around 27,000 with a normal distribution and standard deviation of 15,000, with 10,000 data points. (We'll discuss those terms more later, if you're not familiar with them.)\n",
        "\n",
        "Then, compute the mean (average) - it should be close to 27,000:"
      ]
    },
    {
      "cell_type": "code",
      "execution_count": 1,
      "metadata": {
        "colab": {
          "base_uri": "https://localhost:8080/"
        },
        "id": "AMMX21lFaebT",
        "outputId": "7906d980-d0a0-4512-bbae-c31cea31533d"
      },
      "outputs": [
        {
          "output_type": "execute_result",
          "data": {
            "text/plain": [
              "26870.450920329364"
            ]
          },
          "metadata": {},
          "execution_count": 1
        }
      ],
      "source": [
        "import numpy as np\n",
        "\n",
        "incomes = np.random.normal(27000, 15000, 10000)\n",
        "np.mean(incomes)"
      ]
    },
    {
      "cell_type": "markdown",
      "metadata": {
        "id": "imVo_t0KaebU"
      },
      "source": [
        "We can segment the income data into 50 buckets, and plot it as a histogram:"
      ]
    },
    {
      "cell_type": "code",
      "execution_count": 2,
      "metadata": {
        "colab": {
          "base_uri": "https://localhost:8080/",
          "height": 265
        },
        "id": "sQkYknzXaebU",
        "outputId": "15497f7f-ab6e-41f9-ac7e-d6beab8fe79c"
      },
      "outputs": [
        {
          "output_type": "display_data",
          "data": {
            "text/plain": [
              "<Figure size 432x288 with 1 Axes>"
            ],
            "image/png": "[encoded data removed]"
          },
          "metadata": {
            "needs_background": "light"
          }
        }
      ],
      "source": [
        "%matplotlib inline\n",
        "import matplotlib.pyplot as plt\n",
        "plt.hist(incomes, 50)\n",
        "plt.show()"
      ]
    },
    {
      "cell_type": "markdown",
      "metadata": {
        "id": "PUMKPeCKaebU"
      },
      "source": [
        "Now compute the median - since we have a nice, even distribution it too should be close to 27,000:"
      ]
    },
    {
      "cell_type": "code",
      "execution_count": 3,
      "metadata": {
        "colab": {
          "base_uri": "https://localhost:8080/"
        },
        "id": "5f8tmjOuaebU",
        "outputId": "40c32319-fed0-4e90-dbca-e5efe1521748"
      },
      "outputs": [
        {
          "output_type": "execute_result",
          "data": {
            "text/plain": [
              "26859.350893002957"
            ]
          },
          "metadata": {},
          "execution_count": 3
        }
      ],
      "source": [
        "np.median(incomes)"
      ]
    },
    {
      "cell_type": "markdown",
      "metadata": {
        "id": "S1sZ8fcbaebV"
      },
      "source": [
        "Now we'll add Jeff Bezos into the mix. Darn income inequality!"
      ]
    },
    {
      "cell_type": "code",
      "execution_count": 4,
      "metadata": {
        "id": "MahAQtYsaebV"
      },
      "outputs": [],
      "source": [
        "incomes = np.append(incomes, [1000000000])"
      ]
    },
    {
      "cell_type": "markdown",
      "metadata": {
        "id": "2XBelL_taebV"
      },
      "source": [
        "The median won't change much, but the mean does:"
      ]
    },
    {
      "cell_type": "code",
      "execution_count": 6,
      "metadata": {
        "colab": {
          "base_uri": "https://localhost:8080/"
        },
        "id": "fP7slrhoaebV",
        "outputId": "0494a235-40f8-4a38-fed3-64872f9d2172"
      },
      "outputs": [
        {
          "output_type": "execute_result",
          "data": {
            "text/plain": [
              "26859.62648678078"
            ]
          },
          "metadata": {},
          "execution_count": 6
        }
      ],
      "source": [
        "np.median(incomes)"
      ]
    },
    {
      "cell_type": "code",
      "execution_count": 7,
      "metadata": {
        "colab": {
          "base_uri": "https://localhost:8080/"
        },
        "id": "TdGm761LaebV",
        "outputId": "07e53166-6bfd-4d94-adc5-6bf06ffe8f76"
      },
      "outputs": [
        {
          "output_type": "execute_result",
          "data": {
            "text/plain": [
              "126857.76514381498"
            ]
          },
          "metadata": {},
          "execution_count": 7
        }
      ],
      "source": [
        "np.mean(incomes)"
      ]
    },
    {
      "cell_type": "markdown",
      "metadata": {
        "id": "RpfUq6LyaebV"
      },
      "source": [
        "## Mode"
      ]
    },
    {
      "cell_type": "markdown",
      "metadata": {
        "id": "1yaEklsWaebV"
      },
      "source": [
        "Next, let's generate some fake age data for 500 people:"
      ]
    },
    {
      "cell_type": "code",
      "execution_count": 8,
      "metadata": {
        "colab": {
          "base_uri": "https://localhost:8080/"
        },
        "id": "w4YQZrO_aebV",
        "outputId": "f72da63a-3091-492a-bb2d-1e297862d881"
      },
      "outputs": [
        {
          "output_type": "execute_result",
          "data": {
            "text/plain": [
              "array([23, 25, 20, 41, 83, 75, 33, 44, 23, 20, 24, 47, 62, 55, 24, 72, 65,\n",
              "       75, 70, 88, 70, 60, 51, 21, 47, 86, 68, 26, 45, 51, 58, 77, 54, 55,\n",
              "       27, 19, 57, 39, 58, 83, 51, 45, 21, 43, 77, 57, 33, 51, 68, 39, 40,\n",
              "       49, 41, 83, 89, 61, 28, 49, 76, 49, 86, 83, 61, 89, 82, 59, 60, 87,\n",
              "       43, 24, 26, 31, 30, 38, 71, 37, 37, 88, 44, 38, 68, 74, 21, 86, 52,\n",
              "       69, 21, 83, 82, 61, 66, 31, 79, 33, 83, 54, 46, 75, 89, 24, 76, 64,\n",
              "       35, 74, 57, 71, 50, 85, 64, 88, 22, 66, 50, 89, 46, 55, 48, 61, 23,\n",
              "       76, 33, 89, 83, 72, 44, 53, 46, 46, 67, 81, 41, 57, 84, 33, 55, 29,\n",
              "       28, 73, 63, 79, 57, 84, 53, 59, 55, 22, 83, 78, 41, 77, 49, 49, 22,\n",
              "       45, 24, 47, 25, 33, 78, 72, 35, 59, 22, 62, 47, 43, 70, 84, 76, 41,\n",
              "       25, 89, 53, 58, 24, 81, 68, 82, 23, 88, 49, 49, 38, 41, 30, 63, 39,\n",
              "       70, 42, 73, 57, 62, 86, 37, 79, 45, 49, 64, 77, 51, 64, 27, 35, 71,\n",
              "       35, 63, 70, 59, 85, 28, 52, 60, 72, 78, 61, 44, 53, 73, 40, 77, 20,\n",
              "       38, 71, 65, 84, 52, 82, 22, 59, 56, 35, 72, 19, 48, 28, 18, 43, 60,\n",
              "       27, 71, 81, 52, 61, 56, 65, 50, 26, 34, 43, 63, 63, 83, 59, 50, 29,\n",
              "       88, 32, 58, 64, 29, 78, 50, 44, 52, 40, 44, 25, 26, 80, 64, 81, 48,\n",
              "       39, 77, 24, 52, 86, 35, 38, 32, 58, 40, 79, 56, 33, 79, 88, 65, 60,\n",
              "       24, 89, 21, 29, 80, 40, 49, 65, 36, 37, 49, 72, 19, 68, 32, 41, 36,\n",
              "       46, 45, 64, 58, 65, 88, 85, 42, 78, 50, 47, 60, 44, 84, 46, 38, 87,\n",
              "       41, 34, 35, 71, 81, 55, 41, 85, 72, 79, 37, 52, 70, 76, 46, 32, 63,\n",
              "       64, 52, 66, 70, 65, 56, 47, 77, 89, 44, 19, 20, 18, 25, 48, 84, 37,\n",
              "       70, 79, 61, 47, 75, 71, 54, 84, 83, 19, 89, 79, 82, 50, 33, 86, 87,\n",
              "       54, 26, 63, 63, 20, 50, 18, 33, 59, 66, 83, 64, 65, 73, 28, 38, 58,\n",
              "       33, 35, 44, 30, 73, 71, 81, 72, 51, 44, 37, 30, 25, 64, 80, 32, 58,\n",
              "       66, 19, 79, 45, 82, 71, 80, 57, 83, 58, 61, 20, 46, 33, 58, 28, 72,\n",
              "       41, 38, 47, 18, 68, 75, 86, 33, 38, 29, 60, 41, 32, 24, 19, 28, 88,\n",
              "       37, 25, 74, 58, 18, 63, 71, 26, 78, 47, 85, 84, 36, 45, 26, 53, 54,\n",
              "       26, 36, 19, 80, 62, 32, 74, 66, 74, 76, 34, 88, 61, 81, 19, 78, 79,\n",
              "       34, 47, 36, 32, 18, 18, 89, 70, 39, 21, 64, 89, 80, 69, 52, 65, 21,\n",
              "       56, 71, 46, 77, 20, 54, 85])"
            ]
          },
          "metadata": {},
          "execution_count": 8
        }
      ],
      "source": [
        "ages = np.random.randint(18, high=90, size=500)\n",
        "ages"
      ]
    },
    {
      "cell_type": "code",
      "execution_count": 9,
      "metadata": {
        "colab": {
          "base_uri": "https://localhost:8080/"
        },
        "id": "Eiekbei5aebW",
        "outputId": "21c0068e-1822-433d-996d-1b758d87c3e1"
      },
      "outputs": [
        {
          "output_type": "execute_result",
          "data": {
            "text/plain": [
              "ModeResult(mode=array([33]), count=array([12]))"
            ]
          },
          "metadata": {},
          "execution_count": 9
        }
      ],
      "source": [
        "from scipy import stats\n",
        "stats.mode(ages)"
      ]
    },
    {
      "cell_type": "code",
      "execution_count": 9,
      "metadata": {
        "id": "h3QR8NQYaebW"
      },
      "outputs": [],
      "source": []
    }
  ],
  "metadata": {
    "kernelspec": {
      "display_name": "Python 3",
      "language": "python",
      "name": "python3"
    },
    "language_info": {
      "codemirror_mode": {
        "name": "ipython",
        "version": 3
      },
      "file_extension": ".py",
      "mimetype": "text/x-python",
      "name": "python",
      "nbconvert_exporter": "python",
      "pygments_lexer": "ipython3",
      "version": "3.7.3"
    },
    "colab": {
      "provenance": [],
      "include_colab_link": true
    }
  },
  "nbformat": 4,
  "nbformat_minor": 0
}